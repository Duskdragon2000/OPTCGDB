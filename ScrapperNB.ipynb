{
 "cells": [
  {
   "cell_type": "code",
   "execution_count": 3,
   "metadata": {},
   "outputs": [],
   "source": [
    "import requests\n",
    "from bs4 import BeautifulSoup\n",
    "import sqlite3\n",
    "import pickle\n",
    "import sys\n"
   ]
  },
  {
   "cell_type": "code",
   "execution_count": 4,
   "metadata": {},
   "outputs": [
    {
     "name": "stdout",
     "output_type": "stream",
     "text": [
      "<Response [200]>\n"
     ]
    }
   ],
   "source": [
    "# Making a GET request\n",
    "r = requests.get('https://asia-en.onepiece-cardgame.com/cardlist/?series=556901')\n",
    "\n",
    "# check status code for response received\n",
    "# success code - 200\n",
    "print(r)"
   ]
  },
  {
   "cell_type": "markdown",
   "metadata": {},
   "source": [
    "\n",
    "value=\"569201\" >EXTRA BOOSTER &lt;br class=&quot;spInline&quot;&gt;-MEMORIAL COLLECTION- [EB-01]</option>\n",
    "value=\"569108\" >BOOSTER PACK &lt;br class=&quot;spInline&quot;&gt;-TWO LEGENDS- [OP-08]</option>\n",
    "value=\"569107\" >BOOSTER PACK &lt;br class=&quot;spInline&quot;&gt;-500 YEARS IN THE FUTURE- [OP-07]</option>\n",
    "value=\"569106\" >BOOSTER PACK &lt;br class=&quot;spInline&quot;&gt;-WINGS OF THE CAPTAIN- [OP-06]</option>\n",
    "value=\"569105\" >BOOSTER PACK &lt;br class=&quot;spInline&quot;&gt;-AWAKENING OF THE NEW ERA- [OP-05]</option>\n",
    "value=\"569104\" >BOOSTER PACK &lt;br class=&quot;spInline&quot;&gt;-KINGDOMS OF INTRIGUE- [OP-04]</option>\n",
    "value=\"569103\" >BOOSTER PACK &lt;br class=&quot;spInline&quot;&gt;-PILLARS OF STRENGTH- [OP-03]</option>\n",
    "value=\"569102\" >BOOSTER PACK &lt;br class=&quot;spInline&quot;&gt;-PARAMOUNT WAR- [OP-02]</option>\n",
    "value=\"569101\" >BOOSTER PACK &lt;br class=&quot;spInline&quot;&gt;-ROMANCE DAWN- [OP-01]</option>\n",
    "value=\"569014\" >STARTER DECK &lt;br class=&quot;spInline&quot;&gt;-3D2Y- [ST-14]</option>\n",
    "value=\"569013\" >ULTRA DECK &lt;br class=&quot;spInline&quot;&gt;-The Three Brothers- [ST-13]</option>\n",
    "value=\"569012\" selected>STARTER DECK &lt;br class=&quot;spInline&quot;&gt;-Zoro and Sanji- [ST-12]</option>\n",
    "value=\"569011\" >STARTER DECK &lt;br class=&quot;spInline&quot;&gt;-Uta- [ST-11]</option>\n",
    "value=\"569010\" >ULTRA DECK &lt;br class=&quot;spInline&quot;&gt;-The Three Captains- [ST-10]</option>\n",
    "value=\"569009\" >STARTER DECK &lt;br class=&quot;spInline&quot;&gt;-Yamato- [ST-09]</option>\n",
    "value=\"569008\" >STARTER DECK &lt;br class=&quot;spInline&quot;&gt;-Monkey D. Luffy- [ST-08]</option>\n",
    "value=\"569007\" >STARTER DECK &lt;br class=&quot;spInline&quot;&gt;-Big Mom Pirates- [ST-07]</option>\n",
    "value=\"569006\" >STARTER DECK &lt;br class=&quot;spInline&quot;&gt;-Absolute Justice- [ST-06]</option>\n",
    "value=\"569005\" >STARTER DECK &lt;br class=&quot;spInline&quot;&gt;-ONE PIECE FILM edition- [ST-05]</option>\n",
    "value=\"569004\" >STARTER DECK &lt;br class=&quot;spInline&quot;&gt;-Animal Kingdom Pirates- [ST-04]</option>\n",
    "value=\"569003\" >STARTER DECK &lt;br class=&quot;spInline&quot;&gt;-The Seven Warlords of the Sea- [ST-03]</option>\n",
    "value=\"569002\" >STARTER DECK &lt;br class=&quot;spInline&quot;&gt;-Worst Generation- [ST-02]</option>\n",
    "value=\"569001\" >STARTER DECK &lt;br class=&quot;spInline&quot;&gt;-Straw Hat Crew- [ST-01]</option>\n",
    "value=\"569901\" >Promotion card</option>\n",
    "value=\"569801\" >Other Product Card</option>\n"
   ]
  },
  {
   "cell_type": "code",
   "execution_count": 5,
   "metadata": {},
   "outputs": [],
   "source": [
    "soup = BeautifulSoup(r.content, 'html.parser')\n",
    "\n",
    "site_card_data = soup.find_all(class_='modalCol')"
   ]
  },
  {
   "cell_type": "code",
   "execution_count": 6,
   "metadata": {},
   "outputs": [
    {
     "name": "stdout",
     "output_type": "stream",
     "text": [
      "{'id': 'P-069', 'card_number': '069', 'name': 'Koala', 'catergory': 'CHARACTER', 'cost': '1', 'attribute': 'Strike', 'counter': '1000', 'color': 'Red', 'feature': 'Revolutionary Army', 'effect': '[Activate: Main] [Once Per Turn] Give up to 1 rested DON!! card to your Leader or 1 of your Characters.', 'card_set': 'Prize for May 2024 Meet-up even', 'set_code': 'P', 'image_src': 'https://asia-en.onepiece-cardgame.com//images/cardlist/card/P-069.png?240831'}\n",
      "{'id': 'OP02-098_p1', 'card_number': '098', 'name': 'Koby (Parallel)', 'catergory': 'CHARACTER', 'cost': '3', 'attribute': 'Strike', 'counter': '1000', 'color': 'Black', 'feature': 'Navy', 'effect': \"[On Play] You may trash 1 card from your hand: K.O. up to 1 of your opponent's Characters with a cost of 3 or less.\", 'card_set': 'Promotion Pack Vol.3', 'set_code': 'OP02', 'image_src': 'https://asia-en.onepiece-cardgame.com//images/cardlist/card/OP02-098_p1.png?240831'}\n"
     ]
    }
   ],
   "source": [
    "card_data = []\n",
    "\n",
    "for card in site_card_data:\n",
    "    card_dict = {}\n",
    "\n",
    "    card_dict['id'] = card.get('id')\n",
    "    card_dict['card_number'] = card.get('id').split('-')[1].split('_')[0]\n",
    "    card_dict['name'] = card.find('div', class_ = 'cardName').get_text()\n",
    "    card_dict['category'] = card.find('div', class_ = 'infoCol').get_text().split('|')[2].strip()\n",
    "    card_dict['cost'] = card.find('div', class_ = 'cost').get_text().strip('Cost').strip('Life')\n",
    "    card_dict['attribute'] = card.find('div', class_='attribute').get_text().strip().split('\\n')[1]\n",
    "    card_dict['counter'] = card.find('div', class_='counter').get_text().strip('Counter')\n",
    "    card_dict['color'] = card.find('div', class_='color').get_text().strip('Color')\n",
    "    card_dict['feature'] = card.find('div', class_='feature').get_text()[4:]\n",
    "    card_dict['effect'] = card.find('div', class_='text').get_text()[6:]\n",
    "    card_dict['card_set'] = card.find('div', class_='getInfo').get_text().strip('Card Set(s)')\n",
    "    card_dict['set_code'] = card.get('id').split('-')[0].split('_')[0]\n",
    "    card_dict['image_src'] = 'https://asia-en.onepiece-cardgame.com/' + card.find('img', class_='lazy').get('data-src').strip('..')\n",
    "\n",
    "    card_data.append(card_dict)\n",
    "\n",
    "print(card_data[149])\n",
    "print(card_data[27])"
   ]
  },
  {
   "cell_type": "markdown",
   "metadata": {},
   "source": []
  },
  {
   "cell_type": "code",
   "execution_count": 127,
   "metadata": {},
   "outputs": [
    {
     "name": "stdout",
     "output_type": "stream",
     "text": [
      "{'id': 'ST03-005_p3', 'card_number': '005', 'name': 'Dracule Mihawk', 'cost': '4', 'attribute': 'Slash', 'counter': '2000', 'color': 'Blue', 'feature': 'he Seven Warlords of the Sea', 'effect': '[DON!! x1] [When Attacking] Draw 2 cards and trash 2 cards from your hand.', 'card_set': 'Blue Donquixote Doflamingo', 'set_code': '[ST-17]', 'image_src': 'https://asia-en.onepiece-cardgame.com//images/cardlist/card/ST03-005_p3.png?240831'}\n"
     ]
    }
   ],
   "source": [
    "\n",
    "conn = sqlite3.connect('OPTCGDB.db')\n",
    "cur = conn.cursor()\n",
    "\n",
    "cur.execute('''\n",
    "    CREATE TABLE IF NOT EXISTS card_data (\n",
    "        id TEXT PRIMARY KEY,\n",
    "        card_number TEXT,\n",
    "        name TEXT,\n",
    "        cost TEXT,\n",
    "        attribute TEXT,\n",
    "        counter TEXT,\n",
    "        color TEXT,\n",
    "        feature TEXT,\n",
    "        effect TEXT,\n",
    "        card_set TEXT,\n",
    "        set_code TEXT,\n",
    "        image_src TEXT\n",
    "    )\n",
    "''')\n",
    "\n",
    "print(card_data[8])\n",
    "for card in card_data:\n",
    "        cur.execute('''\n",
    "        INSERT OR REPLACE INTO card_data (id, card_number, name, cost, attribute, counter, color, feature, effect, card_set, set_code, image_src)\n",
    "        VALUES (?, ?, ?, ?, ?, ?, ?, ?, ?, ?, ?, ?)\n",
    "        ''', (\n",
    "        card['id'],\n",
    "        card['card_number'],\n",
    "        card['name'],\n",
    "        card['cost'],\n",
    "        card['attribute'],\n",
    "        card['counter'],\n",
    "        card['color'],\n",
    "        card['feature'],\n",
    "        card['effect'],\n",
    "        card['card_set'],\n",
    "        card['set_code'],\n",
    "        card['image_src']\n",
    "    ))\n",
    "# Commit the transaction\n",
    "conn.commit()\n",
    "\n",
    "# Close the connection\n",
    "conn.close()"
   ]
  },
  {
   "cell_type": "code",
   "execution_count": 128,
   "metadata": {},
   "outputs": [
    {
     "name": "stdout",
     "output_type": "stream",
     "text": [
      "['556301', '556201', '556109', '556108', '556107', '556106', '556105', '556104', '556103', '556102', '556101', '556020', '556019', '556018', '556017', '556016', '556015', '556014', '556013', '556012', '556011', '556010', '556009', '556008', '556007', '556006', '556005', '556004', '556003', '556002', '556001', '556701', '556901', '556801']\n"
     ]
    }
   ],
   "source": [
    "series_data = soup.find('select', class_='selectModal')\n",
    "#print(series_data)\n",
    "\n",
    "set_list = []\n",
    "#for series in series_data:\n",
    "   \n",
    "options = series_data.find_all('option')\n",
    "#print(options)\n",
    "\n",
    "set_list = [option.get('value') for option in options if option.get('value')]\n",
    "    \n",
    "\n",
    "print(set_list)"
   ]
  },
  {
   "cell_type": "code",
   "execution_count": 9,
   "metadata": {},
   "outputs": [
    {
     "name": "stdout",
     "output_type": "stream",
     "text": [
      "[('OP07-047', '047', 'Trafalgar Law', 'CHARACTER', '4', 'Slash', '2000', 'Blue', 'The Seven Warlords of the Sea/Heart Pirates', \"[Activate: Main] You may return this Character to the owner's hand: If your opponent has 6 or more cards in their hand, your opponent places 1 card from their hand at the bottom of their deck.\", '-500 Years in the Future- [OP-07]', 'OP07', 'https://asia-en.onepiece-cardgame.com//images/cardlist/card/OP07-047.png?240831')]\n",
      "[('OP07-047', '047', 'Trafalgar Law', 'CHARACTER', '4', 'Slash', '2000', 'Blue', 'The Seven Warlords of the Sea/Heart Pirates', \"[Activate: Main] You may return this Character to the owner's hand: If your opponent has 6 or more cards in their hand, your opponent places 1 card from their hand at the bottom of their deck.\", '-500 Years in the Future- [OP-07]', 'OP07', 'https://asia-en.onepiece-cardgame.com//images/cardlist/card/OP07-047.png?240831')]\n"
     ]
    }
   ],
   "source": [
    "connection = sqlite3.connect('OPTCGDB.db')  # Update with your DB file path\n",
    "cur = connection.cursor()\n",
    "cur.execute('''\n",
    "    SELECT *\n",
    "    FROM card_data\n",
    "    WHERE name = ?\n",
    "    AND set_code = ?\n",
    "''', ('Trafalgar Law', 'OP07'))\n",
    "\n",
    "cards = cur.fetchall()\n",
    "print(cards)\n",
    "card_map = {}\n",
    "for card in cards:\n",
    "    base_id = card[0].split('_')[0]  # Take base ID before underscore\n",
    "    if base_id not in card_map:\n",
    "        card_map[base_id] = card\n",
    "connection.close()\n",
    "print(list(card_map.values()))"
   ]
  }
 ],
 "metadata": {
  "kernelspec": {
   "display_name": "Python 3",
   "language": "python",
   "name": "python3"
  },
  "language_info": {
   "codemirror_mode": {
    "name": "ipython",
    "version": 3
   },
   "file_extension": ".py",
   "mimetype": "text/x-python",
   "name": "python",
   "nbconvert_exporter": "python",
   "pygments_lexer": "ipython3",
   "version": "3.11.3"
  }
 },
 "nbformat": 4,
 "nbformat_minor": 2
}
